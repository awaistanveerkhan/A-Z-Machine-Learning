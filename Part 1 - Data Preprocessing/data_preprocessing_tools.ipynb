{
 "cells": [
  {
   "cell_type": "markdown",
   "id": "1808dc8e",
   "metadata": {},
   "source": [
    "## Importing Libraries"
   ]
  },
  {
   "cell_type": "code",
   "execution_count": 1,
   "id": "1eeb8391",
   "metadata": {},
   "outputs": [],
   "source": [
    "import numpy as np\n",
    "import pandas as pd\n",
    "import matplotlib.pyplot as plt"
   ]
  },
  {
   "cell_type": "markdown",
   "id": "8a1c1168",
   "metadata": {},
   "source": [
    "## Importing Dataset"
   ]
  },
  {
   "cell_type": "raw",
   "id": "7e70f5a8",
   "metadata": {},
   "source": [
    "X -> Features/Independent Variables\n",
    "y -> Labels/Dependent Variable\n",
    "\n",
    "iloc's first argument contains indexes range of rows and the second argument takes indexes range of columns"
   ]
  },
  {
   "cell_type": "code",
   "execution_count": 2,
   "id": "292c0196",
   "metadata": {},
   "outputs": [],
   "source": [
    "dataset = pd.read_csv('Data.csv')\n",
    "X = dataset.iloc[:,:-1].values\n",
    "y = dataset.iloc[:,-1].values"
   ]
  },
  {
   "cell_type": "markdown",
   "id": "364f016b",
   "metadata": {},
   "source": [
    "## Taking Care of Missing Data"
   ]
  },
  {
   "cell_type": "raw",
   "id": "30b77496",
   "metadata": {},
   "source": [
    "We repalce the missing values in our dataset by taking the average of that column's values."
   ]
  },
  {
   "cell_type": "code",
   "execution_count": 3,
   "id": "45baeba5",
   "metadata": {},
   "outputs": [],
   "source": [
    "from sklearn.impute import SimpleImputer\n",
    "imputer = SimpleImputer(missing_values = np.nan, strategy = 'mean')\n",
    "imputer.fit(X[:, 1:3])\n",
    "X[: , 1:3] = imputer.transform(X[: , 1:3])"
   ]
  },
  {
   "cell_type": "markdown",
   "id": "119c067c",
   "metadata": {},
   "source": [
    "## Encoding Categorical Data"
   ]
  },
  {
   "cell_type": "raw",
   "id": "78a8b119",
   "metadata": {},
   "source": [
    "One Hot Encoding is creating binary vectors for each of the category in the column. Let's say we have 5 categories in the column, one hot encoding will create 5 new columns."
   ]
  },
  {
   "cell_type": "markdown",
   "id": "11a64e62",
   "metadata": {},
   "source": [
    "### Encoding Independent Variable"
   ]
  },
  {
   "cell_type": "code",
   "execution_count": 4,
   "id": "d078ec1e",
   "metadata": {},
   "outputs": [],
   "source": [
    "from sklearn.compose import ColumnTransformer\n",
    "from sklearn.preprocessing import OneHotEncoder\n",
    "\n",
    "ct = ColumnTransformer(transformers=[('encoder',OneHotEncoder(),[0])] , remainder='passthrough')\n",
    "X = np.array(ct.fit_transform(X))"
   ]
  },
  {
   "cell_type": "markdown",
   "id": "56bb1854",
   "metadata": {},
   "source": [
    "### Encoding Dependent Variable"
   ]
  },
  {
   "cell_type": "raw",
   "id": "e15bd3c0",
   "metadata": {},
   "source": [
    "When we have just two classes, we can use LabelEncoder to simply encode them as 0 & 1."
   ]
  },
  {
   "cell_type": "code",
   "execution_count": 5,
   "id": "de66b434",
   "metadata": {},
   "outputs": [],
   "source": [
    "from sklearn.preprocessing import LabelEncoder\n",
    "le = LabelEncoder()\n",
    "y = le.fit_transform(y)"
   ]
  },
  {
   "cell_type": "markdown",
   "id": "5d2a5565",
   "metadata": {},
   "source": [
    "## Splitting Dataset Into Training & Test Set"
   ]
  },
  {
   "cell_type": "code",
   "execution_count": 6,
   "id": "2f935d3e",
   "metadata": {},
   "outputs": [],
   "source": [
    "from sklearn.model_selection import train_test_split\n",
    "X_train,X_test,y_train,y_test = train_test_split(X,y,test_size=0.2, random_state=1)"
   ]
  },
  {
   "cell_type": "markdown",
   "id": "05b1cc24",
   "metadata": {},
   "source": [
    "## Feature Scaling"
   ]
  },
  {
   "cell_type": "raw",
   "id": "e985e02f",
   "metadata": {},
   "source": [
    "Feature Scaling is a technique to standarize all the variables so one variable is not dominated by the other variable. Feature Scaling is always done after splitting the dataset into training & test set, always done on the training set only.\n",
    "\n",
    "Standardistaion is a more recommended technique because it works all the time. Normalisation is only recommended when we have normal distribution throughout the data.\n",
    "\n",
    "We don't need to standarize the dummy variables."
   ]
  },
  {
   "cell_type": "code",
   "execution_count": 7,
   "id": "20223a6d",
   "metadata": {},
   "outputs": [],
   "source": [
    "from sklearn.preprocessing import StandardScaler\n",
    "\n",
    "sc = StandardScaler()\n",
    "X_train[:,3:] = sc.fit_transform(X_train[:,3:])\n",
    "X_test[:,3:] = sc.transform(X_test[:,3:])"
   ]
  }
 ],
 "metadata": {
  "kernelspec": {
   "display_name": "Python 3 (ipykernel)",
   "language": "python",
   "name": "python3"
  },
  "language_info": {
   "codemirror_mode": {
    "name": "ipython",
    "version": 3
   },
   "file_extension": ".py",
   "mimetype": "text/x-python",
   "name": "python",
   "nbconvert_exporter": "python",
   "pygments_lexer": "ipython3",
   "version": "3.9.13"
  }
 },
 "nbformat": 4,
 "nbformat_minor": 5
}
